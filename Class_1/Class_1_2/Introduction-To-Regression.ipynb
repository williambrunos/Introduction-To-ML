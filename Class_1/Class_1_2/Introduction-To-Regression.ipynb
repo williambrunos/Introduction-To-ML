{
  "cells": [
    {
      "cell_type": "markdown",
      "metadata": {
        "id": "view-in-github",
        "colab_type": "text"
      },
      "source": [
        "<a href=\"https://colab.research.google.com/github/williambrunos/Introduction-To-ML/blob/main/Class_1/Class_1_2/Introduction-To-Regression.ipynb\" target=\"_parent\"><img src=\"https://colab.research.google.com/assets/colab-badge.svg\" alt=\"Open In Colab\"/></a>"
      ]
    },
    {
      "cell_type": "markdown",
      "source": [
        "# Regressão\n",
        "\n",
        "Regressão é uma classe de problemas voltada tanto para predição de valores futuros de uma determinada grandeza a partir da geração de uma função a partir dos dados obtidos, sendo estes dados tabelados, pois regressão é um tipo de aprendizado de máquina supervisionado.\n",
        "\n",
        "Além disso, a regressão também pode vir a servir para realizar classificações nos dados, visto que a curva de regressão formada nos dados pode vir a ser utilizada como \"fronteira\" classificadora.\n",
        "\n",
        "Construir curvas de regressão sobre os gráficos é de extrema importância para até mesmo entendermos o grau de correlação entre os dados, visto que, se possível traçar uma reta que se encaixe bem nos dados, podemos analisar as correlações a partir do coeficiente angular (ou inclinação) desta reta.\n",
        "\n",
        "## Tipos de Regressão\n",
        "\n",
        "### Linear\n",
        "\n",
        "- Simples: Temos apenas uma variável independente sendo utilizada para predizer valores de variáveis dependentes.\n",
        "\n",
        "No geral, desejamos encontrar uma equação do tipo:\n",
        "\n",
        "$$y_i = x_i + \\alpha + \\epsilon_i$$\n",
        "\n",
        "Na qual $y_i$ é a variável dependente, $x_i$ a variável independente, $\\alpha$ o coeficiente linear da curva e $\\epsilon_i$ o erro da predição, todas as grandezas medidas em relação à i-ésima observação.\n",
        "\n",
        "- Múltipla: Temos mais de uma variável independente sendo utilizadas para predizer valores de variáveis dependentes."
      ],
      "metadata": {
        "id": "PhTPa_Zx0Zmq"
      },
      "id": "PhTPa_Zx0Zmq"
    },
    {
      "cell_type": "code",
      "execution_count": 8,
      "id": "f0cdcef5",
      "metadata": {
        "id": "f0cdcef5"
      },
      "outputs": [],
      "source": [
        "import pandas as pd\n",
        "import numpy as np\n",
        "import matplotlib.pyplot as plt\n",
        "import seaborn as sns\n",
        "\n",
        "%matplotlib inline\n",
        "sns.set(style='darkgrid')"
      ]
    },
    {
      "cell_type": "markdown",
      "source": [
        "### Exemplo com Vendas de Sorvetes X Temperatura do dia"
      ],
      "metadata": {
        "id": "3WEv1Lau2fmy"
      },
      "id": "3WEv1Lau2fmy"
    },
    {
      "cell_type": "code",
      "source": [
        "temperatura = np.array([30, 25, 36, 18, 25, 29, 30, 33, 37, 31, 26, 37, 29, 26, 30, 31, 34, 38])\n",
        "vendas_de_sorvete = np.array([20, 12, 50, 10, 18, 25, 26, 32, 48, 22, 16, 52, 24, 20, 28, 29, 35, 40])"
      ],
      "metadata": {
        "id": "WFDBdGag2dYU"
      },
      "id": "WFDBdGag2dYU",
      "execution_count": 2,
      "outputs": []
    },
    {
      "cell_type": "code",
      "source": [
        "df = pd.DataFrame({'Temperature': temperatura, 'Ice_Cream_Sales': vendas_de_sorvete})"
      ],
      "metadata": {
        "id": "ykd2RZBn3BQD"
      },
      "id": "ykd2RZBn3BQD",
      "execution_count": 5,
      "outputs": []
    },
    {
      "cell_type": "code",
      "source": [
        "df"
      ],
      "metadata": {
        "id": "ds3RFb653Jt4",
        "outputId": "ab582df4-2500-43e6-9f2f-2753b9af5a00",
        "colab": {
          "base_uri": "https://localhost:8080/",
          "height": 614
        }
      },
      "id": "ds3RFb653Jt4",
      "execution_count": 27,
      "outputs": [
        {
          "output_type": "execute_result",
          "data": {
            "text/html": [
              "\n",
              "  <div id=\"df-ff7d5bf5-446b-4246-9b56-d42cc31892ec\">\n",
              "    <div class=\"colab-df-container\">\n",
              "      <div>\n",
              "<style scoped>\n",
              "    .dataframe tbody tr th:only-of-type {\n",
              "        vertical-align: middle;\n",
              "    }\n",
              "\n",
              "    .dataframe tbody tr th {\n",
              "        vertical-align: top;\n",
              "    }\n",
              "\n",
              "    .dataframe thead th {\n",
              "        text-align: right;\n",
              "    }\n",
              "</style>\n",
              "<table border=\"1\" class=\"dataframe\">\n",
              "  <thead>\n",
              "    <tr style=\"text-align: right;\">\n",
              "      <th></th>\n",
              "      <th>Temperature</th>\n",
              "      <th>Ice_Cream_Sales</th>\n",
              "    </tr>\n",
              "  </thead>\n",
              "  <tbody>\n",
              "    <tr>\n",
              "      <th>0</th>\n",
              "      <td>30</td>\n",
              "      <td>20</td>\n",
              "    </tr>\n",
              "    <tr>\n",
              "      <th>1</th>\n",
              "      <td>25</td>\n",
              "      <td>12</td>\n",
              "    </tr>\n",
              "    <tr>\n",
              "      <th>2</th>\n",
              "      <td>36</td>\n",
              "      <td>50</td>\n",
              "    </tr>\n",
              "    <tr>\n",
              "      <th>3</th>\n",
              "      <td>18</td>\n",
              "      <td>10</td>\n",
              "    </tr>\n",
              "    <tr>\n",
              "      <th>4</th>\n",
              "      <td>25</td>\n",
              "      <td>18</td>\n",
              "    </tr>\n",
              "    <tr>\n",
              "      <th>5</th>\n",
              "      <td>29</td>\n",
              "      <td>25</td>\n",
              "    </tr>\n",
              "    <tr>\n",
              "      <th>6</th>\n",
              "      <td>30</td>\n",
              "      <td>26</td>\n",
              "    </tr>\n",
              "    <tr>\n",
              "      <th>7</th>\n",
              "      <td>33</td>\n",
              "      <td>32</td>\n",
              "    </tr>\n",
              "    <tr>\n",
              "      <th>8</th>\n",
              "      <td>37</td>\n",
              "      <td>48</td>\n",
              "    </tr>\n",
              "    <tr>\n",
              "      <th>9</th>\n",
              "      <td>31</td>\n",
              "      <td>22</td>\n",
              "    </tr>\n",
              "    <tr>\n",
              "      <th>10</th>\n",
              "      <td>26</td>\n",
              "      <td>16</td>\n",
              "    </tr>\n",
              "    <tr>\n",
              "      <th>11</th>\n",
              "      <td>37</td>\n",
              "      <td>52</td>\n",
              "    </tr>\n",
              "    <tr>\n",
              "      <th>12</th>\n",
              "      <td>29</td>\n",
              "      <td>24</td>\n",
              "    </tr>\n",
              "    <tr>\n",
              "      <th>13</th>\n",
              "      <td>26</td>\n",
              "      <td>20</td>\n",
              "    </tr>\n",
              "    <tr>\n",
              "      <th>14</th>\n",
              "      <td>30</td>\n",
              "      <td>28</td>\n",
              "    </tr>\n",
              "    <tr>\n",
              "      <th>15</th>\n",
              "      <td>31</td>\n",
              "      <td>29</td>\n",
              "    </tr>\n",
              "    <tr>\n",
              "      <th>16</th>\n",
              "      <td>34</td>\n",
              "      <td>35</td>\n",
              "    </tr>\n",
              "    <tr>\n",
              "      <th>17</th>\n",
              "      <td>38</td>\n",
              "      <td>40</td>\n",
              "    </tr>\n",
              "  </tbody>\n",
              "</table>\n",
              "</div>\n",
              "      <button class=\"colab-df-convert\" onclick=\"convertToInteractive('df-ff7d5bf5-446b-4246-9b56-d42cc31892ec')\"\n",
              "              title=\"Convert this dataframe to an interactive table.\"\n",
              "              style=\"display:none;\">\n",
              "        \n",
              "  <svg xmlns=\"http://www.w3.org/2000/svg\" height=\"24px\"viewBox=\"0 0 24 24\"\n",
              "       width=\"24px\">\n",
              "    <path d=\"M0 0h24v24H0V0z\" fill=\"none\"/>\n",
              "    <path d=\"M18.56 5.44l.94 2.06.94-2.06 2.06-.94-2.06-.94-.94-2.06-.94 2.06-2.06.94zm-11 1L8.5 8.5l.94-2.06 2.06-.94-2.06-.94L8.5 2.5l-.94 2.06-2.06.94zm10 10l.94 2.06.94-2.06 2.06-.94-2.06-.94-.94-2.06-.94 2.06-2.06.94z\"/><path d=\"M17.41 7.96l-1.37-1.37c-.4-.4-.92-.59-1.43-.59-.52 0-1.04.2-1.43.59L10.3 9.45l-7.72 7.72c-.78.78-.78 2.05 0 2.83L4 21.41c.39.39.9.59 1.41.59.51 0 1.02-.2 1.41-.59l7.78-7.78 2.81-2.81c.8-.78.8-2.07 0-2.86zM5.41 20L4 18.59l7.72-7.72 1.47 1.35L5.41 20z\"/>\n",
              "  </svg>\n",
              "      </button>\n",
              "      \n",
              "  <style>\n",
              "    .colab-df-container {\n",
              "      display:flex;\n",
              "      flex-wrap:wrap;\n",
              "      gap: 12px;\n",
              "    }\n",
              "\n",
              "    .colab-df-convert {\n",
              "      background-color: #E8F0FE;\n",
              "      border: none;\n",
              "      border-radius: 50%;\n",
              "      cursor: pointer;\n",
              "      display: none;\n",
              "      fill: #1967D2;\n",
              "      height: 32px;\n",
              "      padding: 0 0 0 0;\n",
              "      width: 32px;\n",
              "    }\n",
              "\n",
              "    .colab-df-convert:hover {\n",
              "      background-color: #E2EBFA;\n",
              "      box-shadow: 0px 1px 2px rgba(60, 64, 67, 0.3), 0px 1px 3px 1px rgba(60, 64, 67, 0.15);\n",
              "      fill: #174EA6;\n",
              "    }\n",
              "\n",
              "    [theme=dark] .colab-df-convert {\n",
              "      background-color: #3B4455;\n",
              "      fill: #D2E3FC;\n",
              "    }\n",
              "\n",
              "    [theme=dark] .colab-df-convert:hover {\n",
              "      background-color: #434B5C;\n",
              "      box-shadow: 0px 1px 3px 1px rgba(0, 0, 0, 0.15);\n",
              "      filter: drop-shadow(0px 1px 2px rgba(0, 0, 0, 0.3));\n",
              "      fill: #FFFFFF;\n",
              "    }\n",
              "  </style>\n",
              "\n",
              "      <script>\n",
              "        const buttonEl =\n",
              "          document.querySelector('#df-ff7d5bf5-446b-4246-9b56-d42cc31892ec button.colab-df-convert');\n",
              "        buttonEl.style.display =\n",
              "          google.colab.kernel.accessAllowed ? 'block' : 'none';\n",
              "\n",
              "        async function convertToInteractive(key) {\n",
              "          const element = document.querySelector('#df-ff7d5bf5-446b-4246-9b56-d42cc31892ec');\n",
              "          const dataTable =\n",
              "            await google.colab.kernel.invokeFunction('convertToInteractive',\n",
              "                                                     [key], {});\n",
              "          if (!dataTable) return;\n",
              "\n",
              "          const docLinkHtml = 'Like what you see? Visit the ' +\n",
              "            '<a target=\"_blank\" href=https://colab.research.google.com/notebooks/data_table.ipynb>data table notebook</a>'\n",
              "            + ' to learn more about interactive tables.';\n",
              "          element.innerHTML = '';\n",
              "          dataTable['output_type'] = 'display_data';\n",
              "          await google.colab.output.renderOutput(dataTable, element);\n",
              "          const docLink = document.createElement('div');\n",
              "          docLink.innerHTML = docLinkHtml;\n",
              "          element.appendChild(docLink);\n",
              "        }\n",
              "      </script>\n",
              "    </div>\n",
              "  </div>\n",
              "  "
            ],
            "text/plain": [
              "    Temperature  Ice_Cream_Sales\n",
              "0            30               20\n",
              "1            25               12\n",
              "2            36               50\n",
              "3            18               10\n",
              "4            25               18\n",
              "5            29               25\n",
              "6            30               26\n",
              "7            33               32\n",
              "8            37               48\n",
              "9            31               22\n",
              "10           26               16\n",
              "11           37               52\n",
              "12           29               24\n",
              "13           26               20\n",
              "14           30               28\n",
              "15           31               29\n",
              "16           34               35\n",
              "17           38               40"
            ]
          },
          "metadata": {},
          "execution_count": 27
        }
      ]
    },
    {
      "cell_type": "markdown",
      "source": [
        "Agora, vamos analisar os dados a partir de um gráfico de dispersão utilizando o seaborn."
      ],
      "metadata": {
        "id": "A5OLyNtE3Qfh"
      },
      "id": "A5OLyNtE3Qfh"
    },
    {
      "cell_type": "code",
      "source": [
        "sns.scatterplot?"
      ],
      "metadata": {
        "id": "ZMAdfBG63eno"
      },
      "id": "ZMAdfBG63eno",
      "execution_count": 9,
      "outputs": []
    },
    {
      "cell_type": "code",
      "source": [
        "plt.figure(figsize=(10, 6))\n",
        "plt.title('Vendas de sorvete em função da temperatura', fontsize=14)\n",
        "plt.ylabel('Vendas de Sorvetes (Unidades)', fontsize=14)\n",
        "plt.xlabel('Temperatura (°C)', fontsize=14)\n",
        "sns.scatterplot(data=df, x='Temperature', y='Ice_Cream_Sales')"
      ],
      "metadata": {
        "id": "ved-vhwv3b0Z",
        "outputId": "45828e19-af3a-4d3d-c94d-3ef1b518a534",
        "colab": {
          "base_uri": "https://localhost:8080/",
          "height": 430
        }
      },
      "id": "ved-vhwv3b0Z",
      "execution_count": 16,
      "outputs": [
        {
          "output_type": "execute_result",
          "data": {
            "text/plain": [
              "<matplotlib.axes._subplots.AxesSubplot at 0x7f13287e79d0>"
            ]
          },
          "metadata": {},
          "execution_count": 16
        },
        {
          "output_type": "display_data",
          "data": {
            "image/png": "[encoded data removed]",
            "text/plain": [
              "<Figure size 720x432 with 1 Axes>"
            ]
          },
          "metadata": {}
        }
      ]
    },
    {
      "cell_type": "markdown",
      "source": [
        "Portanto, após uma análise rápida dos dados no gráfico acima, percebemos que há uma dada correlação positiva entre os níveis de temperature e de vendas de sorvete em determinada sorveteria. Ou seja: quanto maiores os valores da temperatura, maiores serão os valores de vendas de sorvetes da sorveteria fictícia."
      ],
      "metadata": {
        "id": "y_MHGrhV7GA_"
      },
      "id": "y_MHGrhV7GA_"
    },
    {
      "cell_type": "markdown",
      "source": [
        "## Construindo o Modelo de Regressão"
      ],
      "metadata": {
        "id": "Tb5AIuBB7egm"
      },
      "id": "Tb5AIuBB7egm"
    },
    {
      "cell_type": "code",
      "source": [
        "from sklearn.model_selection import train_test_split\n",
        "from sklearn.linear_model import LinearRegression\n",
        "from sklearn.metrics import mean_absolute_error"
      ],
      "metadata": {
        "id": "guwWnnD47bgP"
      },
      "id": "guwWnnD47bgP",
      "execution_count": 30,
      "outputs": []
    },
    {
      "cell_type": "code",
      "source": [
        "X = df['Temperature'].to_numpy()\n",
        "y = df['Ice_Cream_Sales'].to_numpy()\n",
        "\n",
        "X_train, X_test, y_train, y_test = train_test_split(X, y, random_state=13, test_size=0.2)"
      ],
      "metadata": {
        "id": "5cvNzrbl8CVM"
      },
      "id": "5cvNzrbl8CVM",
      "execution_count": 20,
      "outputs": []
    },
    {
      "cell_type": "code",
      "source": [
        "model = LinearRegression()\n",
        "\n",
        "# Transformando os valores em vetores coluna para treinar o modelo\n",
        "model.fit(X_train.reshape(-1, 1), y_train.reshape(-1, 1))\n",
        "\n",
        "y_preds = model.predict(y_test.reshape(-1, 1))"
      ],
      "metadata": {
        "id": "C6ePUtrP8mT6"
      },
      "id": "C6ePUtrP8mT6",
      "execution_count": 29,
      "outputs": []
    },
    {
      "cell_type": "code",
      "source": [
        "mae = mean_absolute_error(y_test, y_preds)\n",
        "mae"
      ],
      "metadata": {
        "id": "g24EEwtu97Lv",
        "outputId": "9f3a8a57-82a8-43f5-d732-5f048dfc71f9",
        "colab": {
          "base_uri": "https://localhost:8080/"
        }
      },
      "id": "g24EEwtu97Lv",
      "execution_count": 32,
      "outputs": [
        {
          "output_type": "execute_result",
          "data": {
            "text/plain": [
              "12.554082078148872"
            ]
          },
          "metadata": {},
          "execution_count": 32
        }
      ]
    },
    {
      "cell_type": "markdown",
      "source": [
        "O valor do mean_absolute_error acima representa o erro absoluto entre os valores de **y_test** e **y_preds**, ou seja: o erro médio das predições em relação aos valores reais de teste. Não temos como especificar exatamente se este erro é bom ou ruim, temos apenas a média dos erros absolutos entre os dois vetores de valores: predições e testes. O erro alto se dá por conta talvez da baixa quantidade de dados utilizados para treinar o modelo, incapaz de generalizar totalmente o modelo de regressão. "
      ],
      "metadata": {
        "id": "Sm5Bina2AtMB"
      },
      "id": "Sm5Bina2AtMB"
    },
    {
      "cell_type": "markdown",
      "source": [
        "## Regressão com statsmodel\n",
        "\n",
        "Statsmodel é importante para analisar a regressão sob um olhar mais estatístico do modelo, e não apenas acurácia para dados preditos."
      ],
      "metadata": {
        "id": "WAMp0XKVKE6q"
      },
      "id": "WAMp0XKVKE6q"
    },
    {
      "cell_type": "code",
      "source": [
        "import statsmodels.api as sm"
      ],
      "metadata": {
        "id": "OzyOGPutKNTn",
        "outputId": "de65571c-5600-4bec-eb8a-82ba71bf6e6a",
        "colab": {
          "base_uri": "https://localhost:8080/"
        }
      },
      "id": "OzyOGPutKNTn",
      "execution_count": 39,
      "outputs": [
        {
          "output_type": "stream",
          "name": "stderr",
          "text": [
            "/usr/local/lib/python3.7/dist-packages/statsmodels/tools/_testing.py:19: FutureWarning: pandas.util.testing is deprecated. Use the functions in the public API at pandas.testing instead.\n",
            "  import pandas.util.testing as tm\n"
          ]
        }
      ]
    },
    {
      "cell_type": "code",
      "source": [
        "houses = pd.read_csv('./sample_data/california_housing_train.csv')\n",
        "houses.head()"
      ],
      "metadata": {
        "id": "doWQ5aLnK_ak",
        "outputId": "276c1595-ab30-4d15-d43e-5faf7bad28c7",
        "colab": {
          "base_uri": "https://localhost:8080/",
          "height": 206
        }
      },
      "id": "doWQ5aLnK_ak",
      "execution_count": 41,
      "outputs": [
        {
          "output_type": "execute_result",
          "data": {
            "text/html": [
              "\n",
              "  <div id=\"df-2cd57048-58f0-4519-9b91-69b782bb4c31\">\n",
              "    <div class=\"colab-df-container\">\n",
              "      <div>\n",
              "<style scoped>\n",
              "    .dataframe tbody tr th:only-of-type {\n",
              "        vertical-align: middle;\n",
              "    }\n",
              "\n",
              "    .dataframe tbody tr th {\n",
              "        vertical-align: top;\n",
              "    }\n",
              "\n",
              "    .dataframe thead th {\n",
              "        text-align: right;\n",
              "    }\n",
              "</style>\n",
              "<table border=\"1\" class=\"dataframe\">\n",
              "  <thead>\n",
              "    <tr style=\"text-align: right;\">\n",
              "      <th></th>\n",
              "      <th>longitude</th>\n",
              "      <th>latitude</th>\n",
              "      <th>housing_median_age</th>\n",
              "      <th>total_rooms</th>\n",
              "      <th>total_bedrooms</th>\n",
              "      <th>population</th>\n",
              "      <th>households</th>\n",
              "      <th>median_income</th>\n",
              "      <th>median_house_value</th>\n",
              "    </tr>\n",
              "  </thead>\n",
              "  <tbody>\n",
              "    <tr>\n",
              "      <th>0</th>\n",
              "      <td>-114.31</td>\n",
              "      <td>34.19</td>\n",
              "      <td>15.0</td>\n",
              "      <td>5612.0</td>\n",
              "      <td>1283.0</td>\n",
              "      <td>1015.0</td>\n",
              "      <td>472.0</td>\n",
              "      <td>1.4936</td>\n",
              "      <td>66900.0</td>\n",
              "    </tr>\n",
              "    <tr>\n",
              "      <th>1</th>\n",
              "      <td>-114.47</td>\n",
              "      <td>34.40</td>\n",
              "      <td>19.0</td>\n",
              "      <td>7650.0</td>\n",
              "      <td>1901.0</td>\n",
              "      <td>1129.0</td>\n",
              "      <td>463.0</td>\n",
              "      <td>1.8200</td>\n",
              "      <td>80100.0</td>\n",
              "    </tr>\n",
              "    <tr>\n",
              "      <th>2</th>\n",
              "      <td>-114.56</td>\n",
              "      <td>33.69</td>\n",
              "      <td>17.0</td>\n",
              "      <td>720.0</td>\n",
              "      <td>174.0</td>\n",
              "      <td>333.0</td>\n",
              "      <td>117.0</td>\n",
              "      <td>1.6509</td>\n",
              "      <td>85700.0</td>\n",
              "    </tr>\n",
              "    <tr>\n",
              "      <th>3</th>\n",
              "      <td>-114.57</td>\n",
              "      <td>33.64</td>\n",
              "      <td>14.0</td>\n",
              "      <td>1501.0</td>\n",
              "      <td>337.0</td>\n",
              "      <td>515.0</td>\n",
              "      <td>226.0</td>\n",
              "      <td>3.1917</td>\n",
              "      <td>73400.0</td>\n",
              "    </tr>\n",
              "    <tr>\n",
              "      <th>4</th>\n",
              "      <td>-114.57</td>\n",
              "      <td>33.57</td>\n",
              "      <td>20.0</td>\n",
              "      <td>1454.0</td>\n",
              "      <td>326.0</td>\n",
              "      <td>624.0</td>\n",
              "      <td>262.0</td>\n",
              "      <td>1.9250</td>\n",
              "      <td>65500.0</td>\n",
              "    </tr>\n",
              "  </tbody>\n",
              "</table>\n",
              "</div>\n",
              "      <button class=\"colab-df-convert\" onclick=\"convertToInteractive('df-2cd57048-58f0-4519-9b91-69b782bb4c31')\"\n",
              "              title=\"Convert this dataframe to an interactive table.\"\n",
              "              style=\"display:none;\">\n",
              "        \n",
              "  <svg xmlns=\"http://www.w3.org/2000/svg\" height=\"24px\"viewBox=\"0 0 24 24\"\n",
              "       width=\"24px\">\n",
              "    <path d=\"M0 0h24v24H0V0z\" fill=\"none\"/>\n",
              "    <path d=\"M18.56 5.44l.94 2.06.94-2.06 2.06-.94-2.06-.94-.94-2.06-.94 2.06-2.06.94zm-11 1L8.5 8.5l.94-2.06 2.06-.94-2.06-.94L8.5 2.5l-.94 2.06-2.06.94zm10 10l.94 2.06.94-2.06 2.06-.94-2.06-.94-.94-2.06-.94 2.06-2.06.94z\"/><path d=\"M17.41 7.96l-1.37-1.37c-.4-.4-.92-.59-1.43-.59-.52 0-1.04.2-1.43.59L10.3 9.45l-7.72 7.72c-.78.78-.78 2.05 0 2.83L4 21.41c.39.39.9.59 1.41.59.51 0 1.02-.2 1.41-.59l7.78-7.78 2.81-2.81c.8-.78.8-2.07 0-2.86zM5.41 20L4 18.59l7.72-7.72 1.47 1.35L5.41 20z\"/>\n",
              "  </svg>\n",
              "      </button>\n",
              "      \n",
              "  <style>\n",
              "    .colab-df-container {\n",
              "      display:flex;\n",
              "      flex-wrap:wrap;\n",
              "      gap: 12px;\n",
              "    }\n",
              "\n",
              "    .colab-df-convert {\n",
              "      background-color: #E8F0FE;\n",
              "      border: none;\n",
              "      border-radius: 50%;\n",
              "      cursor: pointer;\n",
              "      display: none;\n",
              "      fill: #1967D2;\n",
              "      height: 32px;\n",
              "      padding: 0 0 0 0;\n",
              "      width: 32px;\n",
              "    }\n",
              "\n",
              "    .colab-df-convert:hover {\n",
              "      background-color: #E2EBFA;\n",
              "      box-shadow: 0px 1px 2px rgba(60, 64, 67, 0.3), 0px 1px 3px 1px rgba(60, 64, 67, 0.15);\n",
              "      fill: #174EA6;\n",
              "    }\n",
              "\n",
              "    [theme=dark] .colab-df-convert {\n",
              "      background-color: #3B4455;\n",
              "      fill: #D2E3FC;\n",
              "    }\n",
              "\n",
              "    [theme=dark] .colab-df-convert:hover {\n",
              "      background-color: #434B5C;\n",
              "      box-shadow: 0px 1px 3px 1px rgba(0, 0, 0, 0.15);\n",
              "      filter: drop-shadow(0px 1px 2px rgba(0, 0, 0, 0.3));\n",
              "      fill: #FFFFFF;\n",
              "    }\n",
              "  </style>\n",
              "\n",
              "      <script>\n",
              "        const buttonEl =\n",
              "          document.querySelector('#df-2cd57048-58f0-4519-9b91-69b782bb4c31 button.colab-df-convert');\n",
              "        buttonEl.style.display =\n",
              "          google.colab.kernel.accessAllowed ? 'block' : 'none';\n",
              "\n",
              "        async function convertToInteractive(key) {\n",
              "          const element = document.querySelector('#df-2cd57048-58f0-4519-9b91-69b782bb4c31');\n",
              "          const dataTable =\n",
              "            await google.colab.kernel.invokeFunction('convertToInteractive',\n",
              "                                                     [key], {});\n",
              "          if (!dataTable) return;\n",
              "\n",
              "          const docLinkHtml = 'Like what you see? Visit the ' +\n",
              "            '<a target=\"_blank\" href=https://colab.research.google.com/notebooks/data_table.ipynb>data table notebook</a>'\n",
              "            + ' to learn more about interactive tables.';\n",
              "          element.innerHTML = '';\n",
              "          dataTable['output_type'] = 'display_data';\n",
              "          await google.colab.output.renderOutput(dataTable, element);\n",
              "          const docLink = document.createElement('div');\n",
              "          docLink.innerHTML = docLinkHtml;\n",
              "          element.appendChild(docLink);\n",
              "        }\n",
              "      </script>\n",
              "    </div>\n",
              "  </div>\n",
              "  "
            ],
            "text/plain": [
              "   longitude  latitude  ...  median_income  median_house_value\n",
              "0    -114.31     34.19  ...         1.4936             66900.0\n",
              "1    -114.47     34.40  ...         1.8200             80100.0\n",
              "2    -114.56     33.69  ...         1.6509             85700.0\n",
              "3    -114.57     33.64  ...         3.1917             73400.0\n",
              "4    -114.57     33.57  ...         1.9250             65500.0\n",
              "\n",
              "[5 rows x 9 columns]"
            ]
          },
          "metadata": {},
          "execution_count": 41
        }
      ]
    },
    {
      "cell_type": "code",
      "source": [
        "X = houses.drop('median_house_value', axis=1)\n",
        "y = houses['median_house_value']"
      ],
      "metadata": {
        "id": "x3HR-eczLV7D"
      },
      "id": "x3HR-eczLV7D",
      "execution_count": 44,
      "outputs": []
    },
    {
      "cell_type": "code",
      "source": [
        "model = sm.OLS(y, X)\n",
        "ans = model.fit()"
      ],
      "metadata": {
        "id": "vFxdrdCDMVVp"
      },
      "id": "vFxdrdCDMVVp",
      "execution_count": 46,
      "outputs": []
    },
    {
      "cell_type": "code",
      "source": [
        "print(ans.summary())"
      ],
      "metadata": {
        "id": "d_DZmpyQMm3A",
        "outputId": "42beebb5-4c52-48ca-9715-1b8dc147b410",
        "colab": {
          "base_uri": "https://localhost:8080/"
        }
      },
      "id": "d_DZmpyQMm3A",
      "execution_count": 48,
      "outputs": [
        {
          "output_type": "stream",
          "name": "stdout",
          "text": [
            "                                 OLS Regression Results                                \n",
            "=======================================================================================\n",
            "Dep. Variable:     median_house_value   R-squared (uncentered):                   0.901\n",
            "Model:                            OLS   Adj. R-squared (uncentered):              0.901\n",
            "Method:                 Least Squares   F-statistic:                          1.927e+04\n",
            "Date:                Wed, 12 Jan 2022   Prob (F-statistic):                        0.00\n",
            "Time:                        21:37:24   Log-Likelihood:                     -2.1492e+05\n",
            "No. Observations:               17000   AIC:                                  4.298e+05\n",
            "Df Residuals:                   16992   BIC:                                  4.299e+05\n",
            "Df Model:                           8                                                  \n",
            "Covariance Type:            nonrobust                                                  \n",
            "======================================================================================\n",
            "                         coef    std err          t      P>|t|      [0.025      0.975]\n",
            "--------------------------------------------------------------------------------------\n",
            "longitude          -2242.3547    119.100    -18.828      0.000   -2475.802   -2008.907\n",
            "latitude           -8474.2259    377.129    -22.470      0.000   -9213.438   -7735.013\n",
            "housing_median_age  1786.1485     49.565     36.036      0.000    1688.995    1883.301\n",
            "total_rooms          -15.3597      0.918    -16.723      0.000     -17.160     -13.559\n",
            "total_bedrooms        79.9623      8.246      9.697      0.000      63.799      96.125\n",
            "population           -39.9046      1.277    -31.238      0.000     -42.409     -37.401\n",
            "households           133.1703      8.918     14.932      0.000     115.689     150.651\n",
            "median_income       4.584e+04    381.200    120.249      0.000    4.51e+04    4.66e+04\n",
            "==============================================================================\n",
            "Omnibus:                     3565.084   Durbin-Watson:                   1.154\n",
            "Prob(Omnibus):                  0.000   Jarque-Bera (JB):            12369.583\n",
            "Skew:                           1.040   Prob(JB):                         0.00\n",
            "Kurtosis:                       6.624   Cond. No.                     3.00e+03\n",
            "==============================================================================\n",
            "\n",
            "Warnings:\n",
            "[1] Standard Errors assume that the covariance matrix of the errors is correctly specified.\n",
            "[2] The condition number is large,  3e+03. This might indicate that there are\n",
            "strong multicollinearity or other numerical problems.\n"
          ]
        }
      ]
    },
    {
      "cell_type": "markdown",
      "source": [
        "Agora, fazendo o mesmo processo, mas já normalizando os valores das colunas em X:\n",
        "\n",
        "$$normalized_i = \\frac{X_i - \\mu}{\\sigma}$$\n",
        "\n",
        "onde $normalized$ é o dado de uma célula do dataframe normalizado, $X_i$ é o dado da i-ésima observação a ser normalizado, $\\mu$ é a média aritmética dos valores da coluna da célula e $\\sigma$ é o desvio padrão da mesma."
      ],
      "metadata": {
        "id": "jD84BDGyPbci"
      },
      "id": "jD84BDGyPbci"
    },
    {
      "cell_type": "code",
      "source": [
        "from sklearn.preprocessing import StandardScaler"
      ],
      "metadata": {
        "id": "b7KoEkQtPhcI"
      },
      "id": "b7KoEkQtPhcI",
      "execution_count": 49,
      "outputs": []
    },
    {
      "cell_type": "code",
      "source": [
        "scaler = StandardScaler()\n",
        "normalized_X = scaler.fit_transform(X)\n",
        "normalized_X = pd.DataFrame(normalized_X, columns=X.columns) \n",
        "\n",
        "model = sm.OLS(y, normalized_X)\n",
        "ans = model.fit()\n",
        "print(ans.summary())"
      ],
      "metadata": {
        "id": "UE2vaNeCQCMg",
        "outputId": "ead1e219-2955-46f4-d5fe-8be597fc19bc",
        "colab": {
          "base_uri": "https://localhost:8080/"
        }
      },
      "id": "UE2vaNeCQCMg",
      "execution_count": 53,
      "outputs": [
        {
          "output_type": "stream",
          "name": "stdout",
          "text": [
            "                                 OLS Regression Results                                \n",
            "=======================================================================================\n",
            "Dep. Variable:     median_house_value   R-squared (uncentered):                   0.153\n",
            "Model:                            OLS   Adj. R-squared (uncentered):              0.152\n",
            "Method:                 Least Squares   F-statistic:                              383.4\n",
            "Date:                Wed, 12 Jan 2022   Prob (F-statistic):                        0.00\n",
            "Time:                        21:46:22   Log-Likelihood:                     -2.3314e+05\n",
            "No. Observations:               17000   AIC:                                  4.663e+05\n",
            "Df Residuals:                   16992   BIC:                                  4.664e+05\n",
            "Df Model:                           8                                                  \n",
            "Covariance Type:            nonrobust                                                  \n",
            "======================================================================================\n",
            "                         coef    std err          t      P>|t|      [0.025      0.975]\n",
            "--------------------------------------------------------------------------------------\n",
            "longitude           -8.65e+04   4983.023    -17.359      0.000   -9.63e+04   -7.67e+04\n",
            "latitude           -9.174e+04   5017.085    -18.286      0.000   -1.02e+05   -8.19e+04\n",
            "housing_median_age  1.448e+04   1884.835      7.684      0.000    1.08e+04    1.82e+04\n",
            "total_rooms        -1.826e+04   5919.843     -3.085      0.002   -2.99e+04   -6660.101\n",
            "total_bedrooms      4.959e+04   1.02e+04      4.863      0.000    2.96e+04    6.96e+04\n",
            "population         -4.418e+04   4284.323    -10.312      0.000   -5.26e+04   -3.58e+04\n",
            "households          1.747e+04   1.02e+04      1.709      0.087   -2563.066    3.75e+04\n",
            "median_income       7.729e+04   2211.150     34.955      0.000     7.3e+04    8.16e+04\n",
            "==============================================================================\n",
            "Omnibus:                     4032.682   Durbin-Watson:                   0.117\n",
            "Prob(Omnibus):                  0.000   Jarque-Bera (JB):            15559.395\n",
            "Skew:                           1.141   Prob(JB):                         0.00\n",
            "Kurtosis:                       7.094   Cond. No.                         16.6\n",
            "==============================================================================\n",
            "\n",
            "Warnings:\n",
            "[1] Standard Errors assume that the covariance matrix of the errors is correctly specified.\n"
          ]
        }
      ]
    },
    {
      "cell_type": "markdown",
      "source": [
        "**array([-86798.24747078, -91860.69960312,  15032.57025439, -18287.63429728,\n",
        "        50207.48120052, -41862.70752333,  14627.59247609,  76807.404793  ])**"
      ],
      "metadata": {
        "id": "ttbB6d8dZ6bG"
      },
      "id": "ttbB6d8dZ6bG"
    },
    {
      "cell_type": "markdown",
      "source": [
        "## Regressão com Scikit-Learn"
      ],
      "metadata": {
        "id": "hniB0jMQQ6h3"
      },
      "id": "hniB0jMQQ6h3"
    },
    {
      "cell_type": "code",
      "source": [
        "X_train, X_test, y_train, y_test = train_test_split(X, y, test_size=0.3, random_state=13)"
      ],
      "metadata": {
        "id": "Wk6AjvewZoww"
      },
      "id": "Wk6AjvewZoww",
      "execution_count": 55,
      "outputs": []
    },
    {
      "cell_type": "code",
      "source": [
        "modelo = LinearRegression()\n",
        "\n",
        "normalized_X_train = pd.DataFrame(scaler.fit_transform(X_train), columns=X.columns)\n",
        "normalized_X_test = pd.DataFrame(scaler.transform(X_test), columns=X.columns)\n",
        "\n",
        "modelo.fit(normalized_X_train, y_train)\n",
        "predictions = modelo.predict(normalized_X_test)\n",
        "\n",
        "mae = mean_absolute_error(y_test, predictions)\n",
        "print(mae)"
      ],
      "metadata": {
        "id": "VIC3fjfcQ8tm",
        "outputId": "290ea6c5-8ab1-452f-bd7d-6e5f6e712492",
        "colab": {
          "base_uri": "https://localhost:8080/"
        }
      },
      "id": "VIC3fjfcQ8tm",
      "execution_count": 62,
      "outputs": [
        {
          "output_type": "stream",
          "name": "stdout",
          "text": [
            "50391.27647167605\n"
          ]
        }
      ]
    },
    {
      "cell_type": "code",
      "source": [
        "modelo.coef_ # Comparar com o do statsmodel"
      ],
      "metadata": {
        "id": "aBkwtzqDZzdG",
        "outputId": "ecf8a584-bdc6-4cf6-8b50-b2e3d3fcc0a3",
        "colab": {
          "base_uri": "https://localhost:8080/"
        }
      },
      "id": "aBkwtzqDZzdG",
      "execution_count": 60,
      "outputs": [
        {
          "output_type": "execute_result",
          "data": {
            "text/plain": [
              "array([-86798.24747078, -91860.69960312,  15032.57025439, -18287.63429728,\n",
              "        50207.48120052, -41862.70752333,  14627.59247609,  76807.404793  ])"
            ]
          },
          "metadata": {},
          "execution_count": 60
        }
      ]
    }
  ],
  "metadata": {
    "kernelspec": {
      "display_name": "Python 3",
      "language": "python",
      "name": "python3"
    },
    "language_info": {
      "codemirror_mode": {
        "name": "ipython",
        "version": 3
      },
      "file_extension": ".py",
      "mimetype": "text/x-python",
      "name": "python",
      "nbconvert_exporter": "python",
      "pygments_lexer": "ipython3",
      "version": "3.8.8"
    },
    "colab": {
      "name": "Introduction-To-Regression.ipynb",
      "provenance": [],
      "include_colab_link": true
    }
  },
  "nbformat": 4,
  "nbformat_minor": 5
}
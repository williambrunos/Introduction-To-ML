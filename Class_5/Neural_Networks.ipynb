{
  "cells": [
    {
      "cell_type": "markdown",
      "metadata": {
        "id": "view-in-github",
        "colab_type": "text"
      },
      "source": [
        "<a href=\"https://colab.research.google.com/github/williambrunos/Introduction-To-ML/blob/main/Class_5/Neural_Networks.ipynb\" target=\"_parent\"><img src=\"https://colab.research.google.com/assets/colab-badge.svg\" alt=\"Open In Colab\"/></a>"
      ]
    },
    {
      "cell_type": "markdown",
      "source": [
        "# Neural Networks\n",
        "\n",
        "Neural networks is a computacional way to mimic the way that human beings learn things. To understand that, we need to understand how a neuron work."
      ],
      "metadata": {
        "id": "ano3BVg_EiVS"
      },
      "id": "ano3BVg_EiVS"
    },
    {
      "cell_type": "markdown",
      "source": [
        "## How dows neurons works? (Overly Simplified)\n",
        "\n",
        "A **neuron** is the main cell of the **neuro system**. It is composed of **dendrites**, wich ones recieves informations from other neurons trough eletrical signs. If these eletrical signs trespasses a certain threshold, the **nucleus** of the neuron allows the passage of this information recieved trough the tail of the neuron and to the **axons**, which passes these eletrical signs to other neurons."
      ],
      "metadata": {
        "id": "3G1TW-VXE54d"
      },
      "id": "3G1TW-VXE54d"
    },
    {
      "cell_type": "markdown",
      "source": [
        "![Neuron](https://upload.wikimedia.org/wikipedia/commons/thumb/b/b5/Neuron.svg/1200px-Neuron.svg.png)"
      ],
      "metadata": {
        "id": "qeHQUah2Hpnf"
      },
      "id": "qeHQUah2Hpnf"
    },
    {
      "cell_type": "markdown",
      "source": [
        "Now, imagine that a certain information needs to be processed. For doing this, our neuron system sends some informations to a certain neuron layer, which are capable of understanding and extracting patterns of this informations.\n",
        "\n",
        "These processed and with a certain complexity informations are passed through the axons to other neurons, wich are capable of processing and undertanding patterns even more complexes than the other informations from the previous layer.\n",
        "\n",
        "And this process keeps going on, until the system has the full information processed.\n",
        "\n",
        "So...how does it works artificialy? Let's see!"
      ],
      "metadata": {
        "id": "zHcvgCI3HZ-G"
      },
      "id": "zHcvgCI3HZ-G"
    },
    {
      "cell_type": "markdown",
      "source": [
        "## The Artificial Neuron\n",
        "\n",
        "Those eletrical signals recieved by the neurons on neuro system can be represented artificially by input values $x_i$, which one represents a certain information comming to be processed by the neuron. Each information has a certain weight $w_i$, which represents how strong is the presence of the input  $x_i$ for the calculus of the information.\n",
        "\n",
        "These inputs can either be excitatory or inhibitory. Inhibitory inputs are those that have maximum effect on the decision making irrespective of other inputs i.e., if x_3 is 1 (not home) then my output will always be 0 i.e., the neuron will never fire, so x_3 is an inhibitory input. Excitatory inputs are NOT the ones that will make the neuron fire on their own but they might fire it when combined together.\n",
        "\n",
        "The weighted sum of the inputs for the neurons are done with a certain bias $b_0$:\n",
        "\n",
        "$$v = \\sum_{i=1}^{m}(x_i w_i + b_0)$$\n",
        "\n",
        "The value of v could represent our processed information, but this would simplify a lot our system architecture, because our info would be represented by a linear function, which does not needs any complex architecture, wich is the case of neural networks.\n",
        "\n",
        "So, the value of $v$ is passed as an argument for a function called the **activation function** $\\phi(v)$, that do a more complex transformation on the information than a simple linear transformation. The output of this function is the resultant transformed information called $y$, which can be used by other neurons in the next layer or can be the resultant info.\n",
        "\n",
        "![Artificial Neuron](https://www.gabormelli.com/RKB/images/thumb/3/31/artificial-neuron-model.png/600px-artificial-neuron-model.png)\n",
        "\n",
        "And the output of the processes is passed on to the next layers in a hierarchical manner, some of the neurons will fire and some won’t and this process goes on until it results in a final response."
      ],
      "metadata": {
        "id": "vTqpf52cKLO_"
      },
      "id": "vTqpf52cKLO_"
    },
    {
      "cell_type": "markdown",
      "source": [
        "## The Perceptron\n",
        "\n",
        "The perceptron is the most simple example of a artificial neuron, wich has the output based on the function below:\n",
        "\n",
        "$$y = 1, \\; if \\; \\sum_{i=1}^{m}(x_iw_i + b_0) \\ge 0$$\n",
        "$$y = 0, \\; if \\; \\sum_{i=1}^{m}(x_iw_i + b_0) < 0 $$\n",
        "\n",
        "**obs**: The McCulloch Pitts Neuron didn't had the weights, being just a sum of the input values to outuput the function. \n",
        "\n",
        "See more: [McCulloch Pitts Neuron](https://towardsdatascience.com/mcculloch-pitts-model-5fdf65ac5dd1)\n",
        "\n",
        "Why does not we use the McCulloch Pitts Neuron on nowdays? Because it is a very simplistic way to model a system. It needs fixed thresholds and gives the same importance to all the inputs, and we want a model that learns the weights of each input and the thresholds!"
      ],
      "metadata": {
        "id": "m1B5-jQ8M9HP"
      },
      "id": "m1B5-jQ8M9HP"
    },
    {
      "cell_type": "markdown",
      "source": [
        "## Multi Layer Perceptron (MLP)\n",
        "\n",
        "Notice that one unique perceptron would be very simplistic with the problem. So, we are going to use various layers of perceptrons, each on with one or more than one perceptron.\n",
        "\n",
        "![MLP](https://www.researchgate.net/publication/334609713/figure/fig1/AS:783455927406593@1563801857102/Multi-Layer-Perceptron-MLP-diagram-with-four-hidden-layers-and-a-collection-of-single.jpg)"
      ],
      "metadata": {
        "id": "RPOo0OwqWmR7"
      },
      "id": "RPOo0OwqWmR7"
    },
    {
      "cell_type": "markdown",
      "source": [
        "## Neural Networks Implementation with Scikit-Learn"
      ],
      "metadata": {
        "id": "o0TnJGh7aLBT"
      },
      "id": "o0TnJGh7aLBT"
    },
    {
      "cell_type": "code",
      "execution_count": 1,
      "id": "e68beaac",
      "metadata": {
        "id": "e68beaac"
      },
      "outputs": [],
      "source": [
        "import pandas as pd\n",
        "import matplotlib.pyplot as plt \n",
        "import seaborn as sns\n",
        "import numpy as np \n",
        "\n",
        "from sklearn.neural_network import MLPRegressor\n",
        "from sklearn.preprocessing import MinMaxScaler\n",
        "from sklearn.model_selection import train_test_split\n",
        "from sklearn.datasets import load_boston"
      ]
    },
    {
      "cell_type": "code",
      "source": [
        "X, y = load_boston(return_X_y=True)"
      ],
      "metadata": {
        "id": "gi7ObAeeasTR",
        "outputId": "4f872aff-3917-4683-e246-13f65dc74bb1",
        "colab": {
          "base_uri": "https://localhost:8080/"
        }
      },
      "id": "gi7ObAeeasTR",
      "execution_count": 2,
      "outputs": [
        {
          "output_type": "stream",
          "name": "stderr",
          "text": [
            "/usr/local/lib/python3.7/dist-packages/sklearn/utils/deprecation.py:87: FutureWarning: Function load_boston is deprecated; `load_boston` is deprecated in 1.0 and will be removed in 1.2.\n",
            "\n",
            "    The Boston housing prices dataset has an ethical problem. You can refer to\n",
            "    the documentation of this function for further details.\n",
            "\n",
            "    The scikit-learn maintainers therefore strongly discourage the use of this\n",
            "    dataset unless the purpose of the code is to study and educate about\n",
            "    ethical issues in data science and machine learning.\n",
            "\n",
            "    In this special case, you can fetch the dataset from the original\n",
            "    source::\n",
            "\n",
            "        import pandas as pd\n",
            "        import numpy as np\n",
            "\n",
            "\n",
            "        data_url = \"http://lib.stat.cmu.edu/datasets/boston\"\n",
            "        raw_df = pd.read_csv(data_url, sep=\"\\s+\", skiprows=22, header=None)\n",
            "        data = np.hstack([raw_df.values[::2, :], raw_df.values[1::2, :2]])\n",
            "        target = raw_df.values[1::2, 2]\n",
            "\n",
            "    Alternative datasets include the California housing dataset (i.e.\n",
            "    :func:`~sklearn.datasets.fetch_california_housing`) and the Ames housing\n",
            "    dataset. You can load the datasets as follows::\n",
            "\n",
            "        from sklearn.datasets import fetch_california_housing\n",
            "        housing = fetch_california_housing()\n",
            "\n",
            "    for the California housing dataset and::\n",
            "\n",
            "        from sklearn.datasets import fetch_openml\n",
            "        housing = fetch_openml(name=\"house_prices\", as_frame=True)\n",
            "\n",
            "    for the Ames housing dataset.\n",
            "    \n",
            "  warnings.warn(msg, category=FutureWarning)\n"
          ]
        }
      ]
    },
    {
      "cell_type": "code",
      "source": [
        "X_train, X_test, y_train, y_test = train_test_split(X, y, test_size=0.2, random_state=13)"
      ],
      "metadata": {
        "id": "Rdsq8rkfbH8X"
      },
      "id": "Rdsq8rkfbH8X",
      "execution_count": 3,
      "outputs": []
    },
    {
      "cell_type": "markdown",
      "source": [
        "On neural networks, we use learning based on optimizers. Because of this, we have to standardize the values on the dataframe. Doing that, the model will not priorize some inputs rather than others just because the values are not in the same range of values."
      ],
      "metadata": {
        "id": "SVmS2OjMcVj9"
      },
      "id": "SVmS2OjMcVj9"
    },
    {
      "cell_type": "code",
      "source": [
        "# See the documentation\n",
        "# MinMaxScaler?"
      ],
      "metadata": {
        "id": "BlASkTC-QnIc"
      },
      "id": "BlASkTC-QnIc",
      "execution_count": null,
      "outputs": []
    },
    {
      "cell_type": "code",
      "source": [
        "mm = MinMaxScaler()"
      ],
      "metadata": {
        "id": "9Z7sTDIcbN4o"
      },
      "id": "9Z7sTDIcbN4o",
      "execution_count": 4,
      "outputs": []
    },
    {
      "cell_type": "code",
      "source": [
        "X_train = mm.fit_transform(X_train)\n",
        "X_test = mm.transform(X_test)"
      ],
      "metadata": {
        "id": "5ME30j8UdBWe"
      },
      "id": "5ME30j8UdBWe",
      "execution_count": 5,
      "outputs": []
    },
    {
      "cell_type": "code",
      "source": [
        "mlp = MLPRegressor(hidden_layer_sizes=(500, 500, 500), max_iter=1000, solver='lbfgs', shuffle=False)"
      ],
      "metadata": {
        "id": "AOgJIfNUdGl3"
      },
      "id": "AOgJIfNUdGl3",
      "execution_count": 6,
      "outputs": []
    },
    {
      "cell_type": "code",
      "source": [
        "mlp.fit(X_train, y_train)"
      ],
      "metadata": {
        "id": "l82VMzmUec1w",
        "outputId": "3ff51ea4-b88c-42fd-a886-b26ddc5093c4",
        "colab": {
          "base_uri": "https://localhost:8080/"
        }
      },
      "id": "l82VMzmUec1w",
      "execution_count": 7,
      "outputs": [
        {
          "output_type": "stream",
          "name": "stderr",
          "text": [
            "/usr/local/lib/python3.7/dist-packages/sklearn/neural_network/_multilayer_perceptron.py:549: ConvergenceWarning: lbfgs failed to converge (status=1):\n",
            "STOP: TOTAL NO. of ITERATIONS REACHED LIMIT.\n",
            "\n",
            "Increase the number of iterations (max_iter) or scale the data as shown in:\n",
            "    https://scikit-learn.org/stable/modules/preprocessing.html\n",
            "  self.n_iter_ = _check_optimize_result(\"lbfgs\", opt_res, self.max_iter)\n"
          ]
        },
        {
          "output_type": "execute_result",
          "data": {
            "text/plain": [
              "MLPRegressor(hidden_layer_sizes=(500, 500, 500), max_iter=1000, shuffle=False,\n",
              "             solver='lbfgs')"
            ]
          },
          "metadata": {},
          "execution_count": 7
        }
      ]
    },
    {
      "cell_type": "code",
      "source": [
        "mlp.score(X_test, y_test)"
      ],
      "metadata": {
        "id": "rIcaO0svefYz",
        "outputId": "d2134c77-207b-45b4-c80d-709e3437dfa6",
        "colab": {
          "base_uri": "https://localhost:8080/"
        }
      },
      "id": "rIcaO0svefYz",
      "execution_count": 8,
      "outputs": [
        {
          "output_type": "execute_result",
          "data": {
            "text/plain": [
              "0.8099558466927437"
            ]
          },
          "metadata": {},
          "execution_count": 8
        }
      ]
    }
  ],
  "metadata": {
    "kernelspec": {
      "display_name": "Python 3 (ipykernel)",
      "language": "python",
      "name": "python3"
    },
    "language_info": {
      "codemirror_mode": {
        "name": "ipython",
        "version": 3
      },
      "file_extension": ".py",
      "mimetype": "text/x-python",
      "name": "python",
      "nbconvert_exporter": "python",
      "pygments_lexer": "ipython3",
      "version": "3.7.6"
    },
    "colab": {
      "name": "Neural_Networks.ipynb",
      "provenance": [],
      "include_colab_link": true
    }
  },
  "nbformat": 4,
  "nbformat_minor": 5
}
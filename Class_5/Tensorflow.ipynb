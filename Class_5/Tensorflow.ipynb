{
  "cells": [
    {
      "cell_type": "markdown",
      "metadata": {
        "id": "view-in-github",
        "colab_type": "text"
      },
      "source": [
        "<a href=\"https://colab.research.google.com/github/williambrunos/Introduction-To-ML/blob/main/Class_5/Tensorflow.ipynb\" target=\"_parent\"><img src=\"https://colab.research.google.com/assets/colab-badge.svg\" alt=\"Open In Colab\"/></a>"
      ]
    },
    {
      "cell_type": "markdown",
      "source": [
        "# Tensorflow\n",
        "\n",
        "- Developed by Google Brain;\n",
        "- Ideal for numerical processing;\n",
        "- Runs on CPU and GPU;\n",
        "\n",
        "![TF](https://th.bing.com/th/id/OIP.wB175DvEMQU59qjS5KBSowHaDj?w=347&h=167&c=7&r=0&o=5&pid=1.7)"
      ],
      "metadata": {
        "id": "nWnhbs0KzRKz"
      },
      "id": "nWnhbs0KzRKz"
    },
    {
      "cell_type": "code",
      "execution_count": 1,
      "id": "135378a9",
      "metadata": {
        "id": "135378a9"
      },
      "outputs": [],
      "source": [
        "import tensorflow as tf\n",
        "from tensorflow import keras\n",
        "import numpy as np"
      ]
    },
    {
      "cell_type": "code",
      "source": [
        "fashion_mnist = keras.datasets.fashion_mnist\n",
        "\n",
        "(train_images, train_labels), (test_images, test_labels) = fashion_mnist.load_data()"
      ],
      "metadata": {
        "id": "_jqU_uG23Iwg",
        "outputId": "c6286290-3007-4043-ece1-596fa2551024",
        "colab": {
          "base_uri": "https://localhost:8080/"
        }
      },
      "id": "_jqU_uG23Iwg",
      "execution_count": 2,
      "outputs": [
        {
          "output_type": "stream",
          "name": "stdout",
          "text": [
            "Downloading data from https://storage.googleapis.com/tensorflow/tf-keras-datasets/train-labels-idx1-ubyte.gz\n",
            "32768/29515 [=================================] - 0s 0us/step\n",
            "40960/29515 [=========================================] - 0s 0us/step\n",
            "Downloading data from https://storage.googleapis.com/tensorflow/tf-keras-datasets/train-images-idx3-ubyte.gz\n",
            "26427392/26421880 [==============================] - 0s 0us/step\n",
            "26435584/26421880 [==============================] - 0s 0us/step\n",
            "Downloading data from https://storage.googleapis.com/tensorflow/tf-keras-datasets/t10k-labels-idx1-ubyte.gz\n",
            "16384/5148 [===============================================================================================] - 0s 0us/step\n",
            "Downloading data from https://storage.googleapis.com/tensorflow/tf-keras-datasets/t10k-images-idx3-ubyte.gz\n",
            "4423680/4422102 [==============================] - 0s 0us/step\n",
            "4431872/4422102 [==============================] - 0s 0us/step\n"
          ]
        }
      ]
    },
    {
      "cell_type": "code",
      "source": [
        "print(f'Shape of train images: {train_images.shape}')\n",
        "print(f'Number of train images: {len(train_images)}')\n",
        "print(f'Number of train labels: {len(train_labels)}')\n",
        "\n",
        "print(f'Shape of train images: {test_images.shape}')\n",
        "print(f'Number of train images: {len(test_images)}')\n",
        "print(f'Number of train labels: {len(test_labels)}')\n",
        "\n",
        "print(f'Possible labels for images: {np.unique(train_labels)}')"
      ],
      "metadata": {
        "id": "h2Todb633aew",
        "outputId": "443ed2af-4f93-4e3f-cc9e-07d3f6723ea6",
        "colab": {
          "base_uri": "https://localhost:8080/"
        }
      },
      "id": "h2Todb633aew",
      "execution_count": 6,
      "outputs": [
        {
          "output_type": "stream",
          "name": "stdout",
          "text": [
            "Shape of train images: (60000, 28, 28)\n",
            "Number of train images: 60000\n",
            "Number of train labels: 60000\n",
            "Shape of train images: (10000, 28, 28)\n",
            "Number of train images: 10000\n",
            "Number of train labels: 10000\n",
            "Possible labels for images: [0 1 2 3 4 5 6 7 8 9]\n"
          ]
        }
      ]
    },
    {
      "cell_type": "markdown",
      "source": [
        "As we can see in the first and in the fourth line, our images have a 28 X 28 pixels size. It's pretty bad that we train a neural network with the images without some preprocessing, because each pixel stores values between 0 and 255, which is bad for gradient oprtimizers. Because of that, it is common to preprocess those pixels dividing them by 255:"
      ],
      "metadata": {
        "id": "Bj9PZ9Hc4Dzq"
      },
      "id": "Bj9PZ9Hc4Dzq"
    },
    {
      "cell_type": "code",
      "source": [
        "train_images = train_images / 255.0\n",
        "test_images = test_images / 255.0"
      ],
      "metadata": {
        "id": "Y-zJJmcY4k2a"
      },
      "id": "Y-zJJmcY4k2a",
      "execution_count": 7,
      "outputs": []
    },
    {
      "cell_type": "code",
      "source": [
        "model = keras.Sequential([\n",
        "                          keras.layers.Flatten(input_shape=(28, 28)),\n",
        "                          keras.layers.Dense(128, activation=tf.nn.relu),\n",
        "                          keras.layers.Dense(10, activation=tf.nn.softmax)\n",
        "                          ])\n",
        "\n",
        "model.summary()"
      ],
      "metadata": {
        "id": "LqMZqjgA42_B",
        "outputId": "4d17323f-e384-482b-a599-711cb5542790",
        "colab": {
          "base_uri": "https://localhost:8080/"
        }
      },
      "id": "LqMZqjgA42_B",
      "execution_count": 12,
      "outputs": [
        {
          "output_type": "stream",
          "name": "stdout",
          "text": [
            "Model: \"sequential_1\"\n",
            "_________________________________________________________________\n",
            " Layer (type)                Output Shape              Param #   \n",
            "=================================================================\n",
            " flatten_1 (Flatten)         (None, 784)               0         \n",
            "                                                                 \n",
            " dense_2 (Dense)             (None, 128)               100480    \n",
            "                                                                 \n",
            " dense_3 (Dense)             (None, 10)                1290      \n",
            "                                                                 \n",
            "=================================================================\n",
            "Total params: 101,770\n",
            "Trainable params: 101,770\n",
            "Non-trainable params: 0\n",
            "_________________________________________________________________\n"
          ]
        }
      ]
    },
    {
      "cell_type": "code",
      "source": [
        "model.compile(optimizer='adam', \n",
        "              loss='sparse_categorical_crossentropy',\n",
        "              metrics=['accuracy'])"
      ],
      "metadata": {
        "id": "gK4Lbnf1-ebY"
      },
      "id": "gK4Lbnf1-ebY",
      "execution_count": 14,
      "outputs": []
    },
    {
      "cell_type": "code",
      "source": [
        "model.fit(train_images, train_labels, epochs=5)"
      ],
      "metadata": {
        "id": "6cAqBATq-lYh",
        "outputId": "3157b076-2a9b-42b8-a676-75d0d46c91e1",
        "colab": {
          "base_uri": "https://localhost:8080/"
        }
      },
      "id": "6cAqBATq-lYh",
      "execution_count": 16,
      "outputs": [
        {
          "output_type": "stream",
          "name": "stdout",
          "text": [
            "Epoch 1/5\n",
            "1875/1875 [==============================] - 4s 2ms/step - loss: 0.3753 - accuracy: 0.8652\n",
            "Epoch 2/5\n",
            "1875/1875 [==============================] - 4s 2ms/step - loss: 0.3367 - accuracy: 0.8775\n",
            "Epoch 3/5\n",
            "1875/1875 [==============================] - 4s 2ms/step - loss: 0.3115 - accuracy: 0.8843\n",
            "Epoch 4/5\n",
            "1875/1875 [==============================] - 4s 2ms/step - loss: 0.2943 - accuracy: 0.8903\n",
            "Epoch 5/5\n",
            "1875/1875 [==============================] - 4s 2ms/step - loss: 0.2818 - accuracy: 0.8953\n"
          ]
        },
        {
          "output_type": "execute_result",
          "data": {
            "text/plain": [
              "<keras.callbacks.History at 0x7fc2c0ce8e50>"
            ]
          },
          "metadata": {},
          "execution_count": 16
        }
      ]
    },
    {
      "cell_type": "code",
      "source": [
        "test_loss, test_acc = model.evaluate(test_images, test_labels) \n",
        "\n",
        "print(f'Model accucary for test images: {test_acc}')"
      ],
      "metadata": {
        "id": "4ijIGuwE_4lm",
        "outputId": "1a8670f6-303f-4473-baa9-905a1af1fd5a",
        "colab": {
          "base_uri": "https://localhost:8080/"
        }
      },
      "id": "4ijIGuwE_4lm",
      "execution_count": 17,
      "outputs": [
        {
          "output_type": "stream",
          "name": "stdout",
          "text": [
            "313/313 [==============================] - 1s 2ms/step - loss: 0.3436 - accuracy: 0.8795\n",
            "Model accucary for test images: 0.8794999718666077\n"
          ]
        }
      ]
    },
    {
      "cell_type": "code",
      "source": [
        "predictions = model.predict(test_images)\n",
        "print(predictions)"
      ],
      "metadata": {
        "id": "hNo3W736Awjc",
        "outputId": "77b03019-7618-4c5a-b71e-457a26a16acd",
        "colab": {
          "base_uri": "https://localhost:8080/"
        }
      },
      "id": "hNo3W736Awjc",
      "execution_count": 26,
      "outputs": [
        {
          "output_type": "stream",
          "name": "stdout",
          "text": [
            "[[5.11758390e-06 3.22459948e-09 5.06025373e-08 ... 4.40021530e-02\n",
            "  6.56151169e-05 9.52990592e-01]\n",
            " [4.39020369e-04 4.57479844e-12 9.95896101e-01 ... 6.72170924e-14\n",
            "  1.42293729e-07 3.45022032e-14]\n",
            " [9.98004680e-07 9.99998808e-01 5.51607149e-10 ... 9.30115365e-17\n",
            "  3.29728172e-12 1.03234495e-14]\n",
            " ...\n",
            " [2.73745763e-03 3.48564910e-09 1.36817805e-04 ... 3.79152169e-07\n",
            "  9.95992780e-01 8.81669848e-10]\n",
            " [5.32342938e-07 9.99988794e-01 1.11030285e-09 ... 5.77883314e-12\n",
            "  8.12079914e-09 3.61025706e-12]\n",
            " [1.96039167e-04 6.08503979e-05 1.87625381e-04 ... 8.05664584e-02\n",
            "  5.11506423e-02 3.01110267e-04]]\n"
          ]
        }
      ]
    },
    {
      "cell_type": "code",
      "source": [
        "predictions = np.argmax(predictions, axis=1)\n",
        "predictions = predictions.reshape(-1, 1)\n",
        "print(predictions)"
      ],
      "metadata": {
        "id": "G24puRCXA0m6",
        "outputId": "439cf47b-ae14-4fae-bfdc-bda426a59000",
        "colab": {
          "base_uri": "https://localhost:8080/"
        }
      },
      "id": "G24puRCXA0m6",
      "execution_count": 27,
      "outputs": [
        {
          "output_type": "stream",
          "name": "stdout",
          "text": [
            "[[9]\n",
            " [2]\n",
            " [1]\n",
            " ...\n",
            " [8]\n",
            " [1]\n",
            " [5]]\n"
          ]
        }
      ]
    },
    {
      "cell_type": "code",
      "source": [
        "print(predictions.shape)"
      ],
      "metadata": {
        "id": "8FwF1BbTA5jC",
        "outputId": "2b483f2b-c74d-4b21-959d-893aafabd6ae",
        "colab": {
          "base_uri": "https://localhost:8080/"
        }
      },
      "id": "8FwF1BbTA5jC",
      "execution_count": 28,
      "outputs": [
        {
          "output_type": "stream",
          "name": "stdout",
          "text": [
            "(10000, 1)\n"
          ]
        }
      ]
    },
    {
      "cell_type": "code",
      "source": [
        "print(test_labels.reshape(-1, 1))"
      ],
      "metadata": {
        "id": "CQKmrSejBWiK",
        "outputId": "f6d429a5-8113-4851-95ac-66bc7b2d04d4",
        "colab": {
          "base_uri": "https://localhost:8080/"
        }
      },
      "id": "CQKmrSejBWiK",
      "execution_count": 30,
      "outputs": [
        {
          "output_type": "stream",
          "name": "stdout",
          "text": [
            "[[9]\n",
            " [2]\n",
            " [1]\n",
            " ...\n",
            " [8]\n",
            " [1]\n",
            " [5]]\n"
          ]
        }
      ]
    },
    {
      "cell_type": "code",
      "source": [
        "error = predictions - test_labels.reshape(-1, 1)\n",
        "error"
      ],
      "metadata": {
        "id": "6gmiY2EJBf7J",
        "outputId": "8fc278af-53f2-4e6f-9004-0d9e9500667f",
        "colab": {
          "base_uri": "https://localhost:8080/"
        }
      },
      "id": "6gmiY2EJBf7J",
      "execution_count": 31,
      "outputs": [
        {
          "output_type": "execute_result",
          "data": {
            "text/plain": [
              "array([[0],\n",
              "       [0],\n",
              "       [0],\n",
              "       ...,\n",
              "       [0],\n",
              "       [0],\n",
              "       [0]])"
            ]
          },
          "metadata": {},
          "execution_count": 31
        }
      ]
    },
    {
      "cell_type": "code",
      "source": [
        "non_zero_errors = [i for i in error if i != 0]\n",
        "len(non_zero_errors)"
      ],
      "metadata": {
        "id": "AsVhSLw_BkET",
        "outputId": "ce838dc3-1762-4579-e6ca-17a3c833c017",
        "colab": {
          "base_uri": "https://localhost:8080/"
        }
      },
      "id": "AsVhSLw_BkET",
      "execution_count": 32,
      "outputs": [
        {
          "output_type": "execute_result",
          "data": {
            "text/plain": [
              "1205"
            ]
          },
          "metadata": {},
          "execution_count": 32
        }
      ]
    },
    {
      "cell_type": "code",
      "source": [
        "print(f'Accuracy of {(10000 - 1205) / 10000 * 100}')"
      ],
      "metadata": {
        "id": "avnWl-UdBq0T",
        "outputId": "b44c9725-4515-41e0-9b12-37d64ba11654",
        "colab": {
          "base_uri": "https://localhost:8080/"
        }
      },
      "id": "avnWl-UdBq0T",
      "execution_count": 34,
      "outputs": [
        {
          "output_type": "stream",
          "name": "stdout",
          "text": [
            "Accuracy of 87.94999999999999\n"
          ]
        }
      ]
    }
  ],
  "metadata": {
    "kernelspec": {
      "display_name": "Python 3 (ipykernel)",
      "language": "python",
      "name": "python3"
    },
    "language_info": {
      "codemirror_mode": {
        "name": "ipython",
        "version": 3
      },
      "file_extension": ".py",
      "mimetype": "text/x-python",
      "name": "python",
      "nbconvert_exporter": "python",
      "pygments_lexer": "ipython3",
      "version": "3.7.6"
    },
    "colab": {
      "name": "Tensorflow.ipynb",
      "provenance": [],
      "include_colab_link": true
    }
  },
  "nbformat": 4,
  "nbformat_minor": 5
}